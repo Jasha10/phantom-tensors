{
 "cells": [
  {
   "cell_type": "code",
   "execution_count": 2,
   "metadata": {},
   "outputs": [],
   "source": [
    "# The goal of the following is to let users write tensor-like types with variadic \n",
    "# shapes that are amendable to both detailed static type checking and runtime type \n",
    "# checking.\n",
    "#\n",
    "# There are already libraries like\n",
    "# - https://github.com/patrick-kidger/torchtyping \n",
    "# - https://github.com/ramonhagenaars/nptyping\n",
    "#\n",
    "# The former targets shape-based runtime type checking functionality in a pretty \n",
    "# general, but hacky  way. Its shape information is not amenable to static analyis. The \n",
    "# latter is more about expressing really verbose shapes... and stuff. It supports \n",
    "# runtime checking against *single* array expressions, but nothing beyond that. So, \n",
    "# quite limited. It also only works with mypy -- depends on mypy plugin.\n",
    "#\n",
    "#\n",
    "# This is a really rough proof of concept in which I hijack the machinery of \n",
    "# `__class_getitem__` so that `Tensor[A, B]` returns a \"phantom type\" whose\n",
    "# `__instancecheck__` enforces both isisntance(<obj>, Tensor) and <obj>.shape == (A, B)\n",
    "# This means that static type checkers see `Tensor[A, B]`, and runtime type-checkers can\n",
    "# call isinstance against the phantom type. Thus this method plugs and plays with all \n",
    "# runtime type checkers\n",
    "#\n",
    "# Some next steps: \n",
    "# - Add memoization so that the following passes: `assert Tensor[A, B] is Tensor[A, B]`\n",
    "# - Make some weird context manager for binding shape-dimension symbols to particular \n",
    "#   values, so that we can check for mutual consistency across multiple tensors within \n",
    "#   that context. E.g. `def f(x: Tensor[A, B], y: Tensor[B, A]): ...`\n",
    "# - Write a `parse` function that makes it trivial to validate and statically cast \n",
    "#   tensors to shape-typed narrowed versions of themselves\n",
    "#\n",
    "\n",
    "\n",
    "\n",
    "# requirements\n",
    "# - Python 3.9+  \n",
    "# - typing extensions\n",
    "# - phantom-types\n",
    "# - pytorch\n",
    "\n",
    "from collections import defaultdict\n",
    "from torch import Tensor as _Tensor\n",
    "import torch as tr\n",
    "from phantom import Phantom, PhantomMeta\n",
    "\n",
    "from typing import Generic, NewType, TYPE_CHECKING, Any, cast, Hashable, Optional\n",
    "from typing_extensions import TypeVarTuple, Unpack\n",
    "\n",
    "A = NewType(\"A\", int)\n",
    "B = NewType(\"B\", int)\n",
    "C = NewType(\"C\", int)\n",
    "\n",
    "Shape = TypeVarTuple(\"Shape\")\n",
    "\n",
    "\n",
    "class NewMeta(PhantomMeta, type(_Tensor)):\n",
    "    ...\n",
    "\n",
    "class DimBinder:\n",
    "    bindings: Optional[dict[Any, int]] = None\n",
    "\n",
    "def check(shape_type: tuple[Hashable, ...], shape: tuple[int, ...]) -> bool:\n",
    "    if len(shape_type) != len(shape):\n",
    "        return False\n",
    "\n",
    "    matches: defaultdict[Any, list[int]] = defaultdict(list)\n",
    "    for n, a in enumerate(shape_type):\n",
    "        matches[a].append(n)\n",
    "\n",
    "    for indices in matches.values():\n",
    "        if len(indices) == 1:\n",
    "            continue\n",
    "        first, *rest = indices\n",
    "        a = shape[first]\n",
    "        if not all(a == shape[b] for b in rest):\n",
    "            return False\n",
    "    return True\n",
    "        \n",
    "\n",
    "class Tensor(Generic[Unpack[Shape]], _Tensor):\n",
    "    if not TYPE_CHECKING:\n",
    "        @classmethod\n",
    "        def __class_getitem__(cls, key):\n",
    "            class PhantomTensor(\n",
    "                _Tensor,\n",
    "                Phantom,\n",
    "                metaclass=NewMeta,\n",
    "                predicate=lambda x: check(key, x.shape),\n",
    "            ):\n",
    "                ...\n",
    "\n",
    "            return PhantomTensor\n",
    "\n",
    "    @property\n",
    "    def shape(self) -> tuple[Unpack[Shape]]: ...\n"
   ]
  },
  {
   "cell_type": "code",
   "execution_count": null,
   "metadata": {},
   "outputs": [],
   "source": [
    "\n",
    "\n",
    "\n"
   ]
  },
  {
   "cell_type": "code",
   "execution_count": 70,
   "metadata": {},
   "outputs": [],
   "source": [
    "H = NewType(\"A\", int)\n",
    "B = NewType(\"B\", int)\n",
    "C = NewType(\"C\", int)\n"
   ]
  },
  {
   "cell_type": "code",
   "execution_count": 71,
   "metadata": {},
   "outputs": [
    {
     "ename": "NameError",
     "evalue": "name 'reveal_type' is not defined",
     "output_type": "error",
     "traceback": [
      "\u001b[1;31m---------------------------------------------------------------------------\u001b[0m",
      "\u001b[1;31mNameError\u001b[0m                                 Traceback (most recent call last)",
      "Cell \u001b[1;32mIn [71], line 13\u001b[0m\n\u001b[0;32m      9\u001b[0m \u001b[38;5;28;01mdef\u001b[39;00m \u001b[38;5;21mouter_transpose\u001b[39m(x: Tensor[T1, Unpack[Shape], T2]) \u001b[38;5;241m-\u001b[39m\u001b[38;5;241m>\u001b[39m Tensor[T2, Unpack[Shape], T1]: \u001b[38;5;241m.\u001b[39m\u001b[38;5;241m.\u001b[39m\u001b[38;5;241m.\u001b[39m\n\u001b[0;32m     11\u001b[0m x \u001b[38;5;241m=\u001b[39m make_tensor(\u001b[38;5;241m.\u001b[39m\u001b[38;5;241m.\u001b[39m\u001b[38;5;241m.\u001b[39m)\n\u001b[1;32m---> 13\u001b[0m \u001b[43mreveal_type\u001b[49m(x)  \u001b[38;5;66;03m# reveals Tensor[A, B, B, C]\u001b[39;00m\n\u001b[0;32m     14\u001b[0m reveal_type(outer_transpose(x))  \u001b[38;5;66;03m# reveals Tensor[C, B, B, A]\u001b[39;00m\n\u001b[0;32m     16\u001b[0m y \u001b[38;5;241m=\u001b[39m outer_transpose(x)\n",
      "\u001b[1;31mNameError\u001b[0m: name 'reveal_type' is not defined"
     ]
    }
   ],
   "source": [
    "from typing import TypeVar\n",
    "T1 = TypeVar(\"T1\", bound=int)\n",
    "T2 = TypeVar(\"T2\", bound=int)\n",
    "\n",
    "\n",
    "\n",
    "def make_tensor(shape) -> Tensor[A, B, B, C]: ...\n",
    "\n",
    "def outer_transpose(x: Tensor[T1, Unpack[Shape], T2]) -> Tensor[T2, Unpack[Shape], T1]: ...\n",
    "\n",
    "x = make_tensor(...)\n",
    "\n",
    "reveal_type(x)  # reveals Tensor[A, B, B, C]\n",
    "reveal_type(outer_transpose(x))  # reveals Tensor[C, B, B, A]\n",
    "\n",
    "y = outer_transpose(x)\n",
    "\n",
    "\n",
    "y.shape"
   ]
  },
  {
   "cell_type": "code",
   "execution_count": 7,
   "metadata": {},
   "outputs": [],
   "source": [
    "from pytest import raises\n",
    "from beartype import beartype\n",
    "\n",
    "\n",
    "@beartype\n",
    "def make_tensor(shape: tuple[int, int, int]) -> Tensor[A, B, A]:\n",
    "    return cast(Tensor[A, B, A], tr.rand(shape))\n",
    "\n",
    "@beartype\n",
    "def f(x: Tensor[A, B]): ...\n",
    "\n",
    "@beartype\n",
    "def g(x: Tensor[A, B, A]): ...\n",
    "\n",
    "x = make_tensor((1, 2, 1))\n",
    "\n",
    "with raises(Exception):  # <- beartype raises\n",
    "    make_tensor((1, 2))  # pyright flags as error\n",
    "\n",
    "with raises(Exception):  # <- beartype raises\n",
    "    f(x)  # pyright flags as error\n",
    "\n",
    "g(x)"
   ]
  },
  {
   "cell_type": "code",
   "execution_count": 8,
   "metadata": {},
   "outputs": [
    {
     "ename": "BeartypeCallHintReturnViolation",
     "evalue": "@beartyped make_tensor() return \"tensor([[[0.5726, 0.9630],\n         [0.7850, 0.8574]]])\" violates type hint <class '__main__.Tensor.__class_getitem__.<locals>.PhantomTensor'>, as \"tensor([[[0.5726, 0.9630],\n         [0.7850, 0.8574]]])\" not instance of <protocol \"__main__.PhantomTensor\">.",
     "output_type": "error",
     "traceback": [
      "\u001b[1;31m---------------------------------------------------------------------------\u001b[0m",
      "\u001b[1;31mBeartypeCallHintReturnViolation\u001b[0m           Traceback (most recent call last)",
      "Cell \u001b[1;32mIn [8], line 1\u001b[0m\n\u001b[1;32m----> 1\u001b[0m \u001b[43mmake_tensor\u001b[49m\u001b[43m(\u001b[49m\u001b[43m(\u001b[49m\u001b[38;5;241;43m1\u001b[39;49m\u001b[43m,\u001b[49m\u001b[43m \u001b[49m\u001b[38;5;241;43m2\u001b[39;49m\u001b[43m,\u001b[49m\u001b[43m \u001b[49m\u001b[38;5;241;43m2\u001b[39;49m\u001b[43m)\u001b[49m\u001b[43m)\u001b[49m\n",
      "File \u001b[1;32m<@beartype(__main__.make_tensor) at 0x23b05f9aca0>:55\u001b[0m, in \u001b[0;36mmake_tensor\u001b[1;34m(__beartype_func, __beartype_raise_exception, __beartype_object_2452505876992, *args, **kwargs)\u001b[0m\n",
      "File \u001b[1;32mc:\\Users\\rsokl\\miniconda3\\envs\\phantom\\lib\\site-packages\\beartype\\_decor\\_error\\errormain.py:301\u001b[0m, in \u001b[0;36mraise_pep_call_exception\u001b[1;34m(func, pith_name, pith_value, random_int)\u001b[0m\n\u001b[0;32m    297\u001b[0m     exception_cause_suffixed \u001b[39m=\u001b[39m suffix_unless_suffixed(\n\u001b[0;32m    298\u001b[0m         text\u001b[39m=\u001b[39mexception_cause, suffix\u001b[39m=\u001b[39m\u001b[39m'\u001b[39m\u001b[39m.\u001b[39m\u001b[39m'\u001b[39m)\n\u001b[0;32m    300\u001b[0m     \u001b[39m# Raise an exception of the desired class embedding this cause.\u001b[39;00m\n\u001b[1;32m--> 301\u001b[0m     \u001b[39mraise\u001b[39;00m exception_cls(  \u001b[39m# type: ignore[misc]\u001b[39;00m\n\u001b[0;32m    302\u001b[0m         \u001b[39mf\u001b[39m\u001b[39m'\u001b[39m\u001b[39m{\u001b[39;00mexception_prefix\u001b[39m}\u001b[39;00m\u001b[39mviolates type hint \u001b[39m\u001b[39m{\u001b[39;00m\u001b[39mrepr\u001b[39m(hint)\u001b[39m}\u001b[39;00m\u001b[39m, as \u001b[39m\u001b[39m'\u001b[39m\n\u001b[0;32m    303\u001b[0m         \u001b[39mf\u001b[39m\u001b[39m'\u001b[39m\u001b[39m{\u001b[39;00mexception_cause_suffixed\u001b[39m}\u001b[39;00m\u001b[39m'\u001b[39m\n\u001b[0;32m    304\u001b[0m     )\n\u001b[0;32m    306\u001b[0m \u001b[39m# Else, this pith satisfies this hint. In this (hopefully uncommon) edge\u001b[39;00m\n\u001b[0;32m    307\u001b[0m \u001b[39m# case, *SOMETHING HAS GONE TERRIBLY AWRY.* In theory, this should never\u001b[39;00m\n\u001b[0;32m    308\u001b[0m \u001b[39m# happen, as the parent wrapper function performing type checking should\u001b[39;00m\n\u001b[0;32m    309\u001b[0m \u001b[39m# *ONLY* call this child helper function when this pith does *NOT* satisfy\u001b[39;00m\n\u001b[0;32m    310\u001b[0m \u001b[39m# this hint. In this case, raise an exception encouraging the end user to\u001b[39;00m\n\u001b[0;32m    311\u001b[0m \u001b[39m# submit an upstream issue with us.\u001b[39;00m\n\u001b[0;32m    312\u001b[0m pith_value_repr \u001b[39m=\u001b[39m represent_object(\n\u001b[0;32m    313\u001b[0m     obj\u001b[39m=\u001b[39mpith_value, max_len\u001b[39m=\u001b[39m_CAUSE_TRIM_OBJECT_REPR_MAX_LEN)\n",
      "\u001b[1;31mBeartypeCallHintReturnViolation\u001b[0m: @beartyped make_tensor() return \"tensor([[[0.5726, 0.9630],\n         [0.7850, 0.8574]]])\" violates type hint <class '__main__.Tensor.__class_getitem__.<locals>.PhantomTensor'>, as \"tensor([[[0.5726, 0.9630],\n         [0.7850, 0.8574]]])\" not instance of <protocol \"__main__.PhantomTensor\">."
     ]
    }
   ],
   "source": [
    "make_tensor((1, 2, 2))"
   ]
  },
  {
   "cell_type": "code",
   "execution_count": 75,
   "metadata": {},
   "outputs": [
    {
     "data": {
      "text/plain": [
       "tensor([[[0.0346],\n",
       "         [0.4760]]])"
      ]
     },
     "execution_count": 75,
     "metadata": {},
     "output_type": "execute_result"
    }
   ],
   "source": [
    "make_tensor((1, 2, 1))"
   ]
  },
  {
   "cell_type": "code",
   "execution_count": null,
   "metadata": {},
   "outputs": [],
   "source": [
    "register_tensor_shit = lambda x: x\n",
    "any_third_party_type_checker = lambda x: x"
   ]
  },
  {
   "cell_type": "code",
   "execution_count": null,
   "metadata": {},
   "outputs": [],
   "source": [
    "z = 1\n",
    "def parse(*a: Any) -> Any: ..."
   ]
  },
  {
   "cell_type": "code",
   "execution_count": null,
   "metadata": {},
   "outputs": [],
   "source": [
    "x, y, z = parse((x, Tensor[A, B, B]), (y, Tensor[B]), (z, Tensor[B, A, C]))"
   ]
  },
  {
   "cell_type": "code",
   "execution_count": 77,
   "metadata": {},
   "outputs": [],
   "source": [
    "@any_third_party_type_checker\n",
    "@register_tensor_shit\n",
    "def some_tensor_op(x: Tensor[A, B, B], y: Tensor[B], z: Tensor[B, A, C]) -> Tensor[A, C]: ..."
   ]
  },
  {
   "cell_type": "code",
   "execution_count": 76,
   "metadata": {},
   "outputs": [
    {
     "ename": "BeartypeCallHintReturnViolation",
     "evalue": "@beartyped make_tensor() return \"tensor([[[0.9308, 0.6804],\n         [0.0165, 0.4240]]])\" violates type hint <class '__main__.Tensor.__class_getitem__.<locals>.PhantomTensor'>, as \"tensor([[[0.9308, 0.6804],\n         [0.0165, 0.4240]]])\" not instance of <protocol \"__main__.PhantomTensor\">.",
     "output_type": "error",
     "traceback": [
      "\u001b[1;31m---------------------------------------------------------------------------\u001b[0m",
      "\u001b[1;31mBeartypeCallHintReturnViolation\u001b[0m           Traceback (most recent call last)",
      "Cell \u001b[1;32mIn [76], line 1\u001b[0m\n\u001b[1;32m----> 1\u001b[0m \u001b[43mmake_tensor\u001b[49m\u001b[43m(\u001b[49m\u001b[43m(\u001b[49m\u001b[38;5;241;43m1\u001b[39;49m\u001b[43m,\u001b[49m\u001b[43m \u001b[49m\u001b[38;5;241;43m2\u001b[39;49m\u001b[43m,\u001b[49m\u001b[43m \u001b[49m\u001b[38;5;241;43m2\u001b[39;49m\u001b[43m)\u001b[49m\u001b[43m)\u001b[49m\n",
      "File \u001b[1;32m<@beartype(__main__.make_tensor) at 0x22f3ab4f310>:21\u001b[0m, in \u001b[0;36mmake_tensor\u001b[1;34m(__beartype_func, __beartype_raise_exception, __beartype_object_2401818629392, *args, **kwargs)\u001b[0m\n",
      "File \u001b[1;32mc:\\Users\\rsokl\\miniconda3\\envs\\phantom\\lib\\site-packages\\beartype\\_decor\\_error\\errormain.py:301\u001b[0m, in \u001b[0;36mraise_pep_call_exception\u001b[1;34m(func, pith_name, pith_value, random_int)\u001b[0m\n\u001b[0;32m    297\u001b[0m     exception_cause_suffixed \u001b[39m=\u001b[39m suffix_unless_suffixed(\n\u001b[0;32m    298\u001b[0m         text\u001b[39m=\u001b[39mexception_cause, suffix\u001b[39m=\u001b[39m\u001b[39m'\u001b[39m\u001b[39m.\u001b[39m\u001b[39m'\u001b[39m)\n\u001b[0;32m    300\u001b[0m     \u001b[39m# Raise an exception of the desired class embedding this cause.\u001b[39;00m\n\u001b[1;32m--> 301\u001b[0m     \u001b[39mraise\u001b[39;00m exception_cls(  \u001b[39m# type: ignore[misc]\u001b[39;00m\n\u001b[0;32m    302\u001b[0m         \u001b[39mf\u001b[39m\u001b[39m'\u001b[39m\u001b[39m{\u001b[39;00mexception_prefix\u001b[39m}\u001b[39;00m\u001b[39mviolates type hint \u001b[39m\u001b[39m{\u001b[39;00m\u001b[39mrepr\u001b[39m(hint)\u001b[39m}\u001b[39;00m\u001b[39m, as \u001b[39m\u001b[39m'\u001b[39m\n\u001b[0;32m    303\u001b[0m         \u001b[39mf\u001b[39m\u001b[39m'\u001b[39m\u001b[39m{\u001b[39;00mexception_cause_suffixed\u001b[39m}\u001b[39;00m\u001b[39m'\u001b[39m\n\u001b[0;32m    304\u001b[0m     )\n\u001b[0;32m    306\u001b[0m \u001b[39m# Else, this pith satisfies this hint. In this (hopefully uncommon) edge\u001b[39;00m\n\u001b[0;32m    307\u001b[0m \u001b[39m# case, *SOMETHING HAS GONE TERRIBLY AWRY.* In theory, this should never\u001b[39;00m\n\u001b[0;32m    308\u001b[0m \u001b[39m# happen, as the parent wrapper function performing type checking should\u001b[39;00m\n\u001b[0;32m    309\u001b[0m \u001b[39m# *ONLY* call this child helper function when this pith does *NOT* satisfy\u001b[39;00m\n\u001b[0;32m    310\u001b[0m \u001b[39m# this hint. In this case, raise an exception encouraging the end user to\u001b[39;00m\n\u001b[0;32m    311\u001b[0m \u001b[39m# submit an upstream issue with us.\u001b[39;00m\n\u001b[0;32m    312\u001b[0m pith_value_repr \u001b[39m=\u001b[39m represent_object(\n\u001b[0;32m    313\u001b[0m     obj\u001b[39m=\u001b[39mpith_value, max_len\u001b[39m=\u001b[39m_CAUSE_TRIM_OBJECT_REPR_MAX_LEN)\n",
      "\u001b[1;31mBeartypeCallHintReturnViolation\u001b[0m: @beartyped make_tensor() return \"tensor([[[0.9308, 0.6804],\n         [0.0165, 0.4240]]])\" violates type hint <class '__main__.Tensor.__class_getitem__.<locals>.PhantomTensor'>, as \"tensor([[[0.9308, 0.6804],\n         [0.0165, 0.4240]]])\" not instance of <protocol \"__main__.PhantomTensor\">."
     ]
    }
   ],
   "source": [
    "make_tensor((1, 2, 2))"
   ]
  },
  {
   "cell_type": "code",
   "execution_count": 56,
   "metadata": {},
   "outputs": [
    {
     "data": {
      "text/plain": [
       "False"
      ]
     },
     "execution_count": 56,
     "metadata": {},
     "output_type": "execute_result"
    }
   ],
   "source": [
    "def make_tensor() -> Tensor[A, B]: ...\n",
    "\n",
    "def f(x: Tensor[A, B], y: Tensor[B, A]): ...\n",
    "\n",
    "x = make_tensor()\n",
    "\n",
    "f(x, x)  # <- should also raise runtime error via beartype\n",
    "\n",
    "f(x, outer_transpose(x))\n",
    "\n"
   ]
  },
  {
   "cell_type": "code",
   "execution_count": 57,
   "metadata": {},
   "outputs": [],
   "source": [
    "assert not isinstance([1], Tensor[A, A])\n",
    "\n",
    "assert isinstance(tr.rand(2, 2), Tensor[A, A])\n",
    "assert not isinstance(tr.rand(2, 3), Tensor[A, A])\n",
    "\n",
    "assert isinstance(tr.rand(2, 3), Tensor[A, B])"
   ]
  },
  {
   "cell_type": "code",
   "execution_count": 59,
   "metadata": {},
   "outputs": [],
   "source": [
    "assert isinstance(tr.rand(1, 2, 3, 2, 1), Tensor[A, B, C, B, A])\n",
    "assert not isinstance(tr.rand(1, 2, 3, 2, 1), Tensor[A, B, C, A, A])"
   ]
  },
  {
   "cell_type": "code",
   "execution_count": 6,
   "metadata": {},
   "outputs": [
    {
     "ename": "TypeError",
     "evalue": "issubclass() arg 1 must be a class",
     "output_type": "error",
     "traceback": [
      "\u001b[1;31m---------------------------------------------------------------------------\u001b[0m",
      "\u001b[1;31mTypeError\u001b[0m                                 Traceback (most recent call last)",
      "Cell \u001b[1;32mIn [6], line 1\u001b[0m\n\u001b[1;32m----> 1\u001b[0m \u001b[38;5;28;43missubclass\u001b[39;49m\u001b[43m(\u001b[49m\u001b[43mA\u001b[49m\u001b[43m,\u001b[49m\u001b[43m \u001b[49m\u001b[38;5;28;43mint\u001b[39;49m\u001b[43m)\u001b[49m\n",
      "\u001b[1;31mTypeError\u001b[0m: issubclass() arg 1 must be a class"
     ]
    }
   ],
   "source": [
    "issubclass(A, int)"
   ]
  },
  {
   "cell_type": "code",
   "execution_count": 5,
   "metadata": {},
   "outputs": [
    {
     "name": "stdout",
     "output_type": "stream",
     "text": [
      "<class '__main__.Tensor'> ((<function NewType.<locals>.new_type at 0x0000022F38CD7D30>, <function NewType.<locals>.new_type at 0x0000022F38CD7E50>),) {}\n",
      "<class 'super'>\n"
     ]
    }
   ],
   "source": [
    "def f() -> Tensor[A, B]: ...\n",
    "\n",
    "def g(x: Tensor[B, A]): ...\n",
    "\n",
    "x = f()\n",
    "x.shape"
   ]
  },
  {
   "cell_type": "code",
   "execution_count": 7,
   "metadata": {},
   "outputs": [
    {
     "data": {
      "text/plain": [
       "False"
      ]
     },
     "execution_count": 7,
     "metadata": {},
     "output_type": "execute_result"
    }
   ],
   "source": [
    "isinstance(tr.rand((2,1)), Tensor)"
   ]
  }
 ],
 "metadata": {
  "kernelspec": {
   "display_name": "Python 3.9.13 ('phantom')",
   "language": "python",
   "name": "python3"
  },
  "language_info": {
   "codemirror_mode": {
    "name": "ipython",
    "version": 3
   },
   "file_extension": ".py",
   "mimetype": "text/x-python",
   "name": "python",
   "nbconvert_exporter": "python",
   "pygments_lexer": "ipython3",
   "version": "3.9.13"
  },
  "orig_nbformat": 4,
  "vscode": {
   "interpreter": {
    "hash": "da39efd8b94b835a3dc4af4e4c07228e0a2a857610ee2271f04c34715b45b95c"
   }
  }
 },
 "nbformat": 4,
 "nbformat_minor": 2
}
