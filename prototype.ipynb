{
 "cells": [
  {
   "cell_type": "code",
   "execution_count": 1,
   "metadata": {},
   "outputs": [],
   "source": [
    "# The goal of the following is to let users write tensor-like types with variadic\n",
    "# shapes that are amendable to both detailed static type checking and runtime type\n",
    "# checking.\n",
    "#\n",
    "# There are already libraries like\n",
    "# - https://github.com/patrick-kidger/torchtyping\n",
    "# - https://github.com/ramonhagenaars/nptyping\n",
    "#\n",
    "# The former targets shape-based runtime type checking functionality in a pretty\n",
    "# general, but hacky  way. Its shape information is not amenable to static analyis. The\n",
    "# latter is more about expressing really verbose shapes... and stuff. It supports\n",
    "# runtime checking against *single* array expressions, but nothing beyond that. So,\n",
    "# quite limited. It also only works with mypy -- depends on mypy plugin.\n",
    "#\n",
    "#\n",
    "# This is a really rough proof of concept in which I hijack the machinery of\n",
    "# `__class_getitem__` so that `Tensor[A, B]` returns a \"phantom type\" whose\n",
    "# `__instancecheck__` enforces both isisntance(<obj>, Tensor) and <obj>.shape == (A, B)\n",
    "# This means that static type checkers see `Tensor[A, B]`, and runtime type-checkers can\n",
    "# call isinstance against the phantom type. Thus this method plugs and plays with all\n",
    "# runtime type checkers\n",
    "#\n",
    "# Some next steps:\n",
    "# - Add memoization so that the following passes: `assert Tensor[A, B] is Tensor[A, B]`\n",
    "# - (DONE) Make some weird context manager for binding shape-dimension symbols to particular\n",
    "#   values, so that we can check for mutual consistency across multiple tensors within\n",
    "#   that context. E.g. `def f(x: Tensor[A, B], y: Tensor[B, A]): ...`\n",
    "# - Write a `parse` function that makes it trivial to validate and statically cast\n",
    "#   tensors to shape-typed narrowed versions of themselves\n",
    "#\n",
    "\n",
    "# requirements\n",
    "# - Python 3.9+\n",
    "# - typing extensions\n",
    "# - phantom-types\n",
    "# - pytorch\n",
    "\n",
    "\n",
    "from collections import defaultdict\n",
    "from torch import Tensor as _Tensor\n",
    "import torch as tr\n",
    "from phantom import Phantom, PhantomMeta\n",
    "\n",
    "from typing import (\n",
    "    Generic,\n",
    "    NewType,\n",
    "    TYPE_CHECKING,\n",
    "    Any,\n",
    "    cast,\n",
    "    Hashable,\n",
    "    Optional,\n",
    "    Callable,\n",
    "    TypeVar,\n",
    "    overload, Type, Iterator\n",
    ")\n",
    "from typing_extensions import TypeVarTuple, Unpack, TypeGuard, TypeAlias\n",
    "\n",
    "from functools import wraps\n"
   ]
  },
  {
   "cell_type": "code",
   "execution_count": 2,
   "metadata": {},
   "outputs": [],
   "source": [
    "\n",
    "F = TypeVar('F', bound=Callable[..., Any])\n",
    "\n",
    "class DimBinder:\n",
    "    bindings: Optional[dict[Any, int]] = None\n",
    "\n",
    "class DimBindContext:\n",
    "    _depth: int = 0\n",
    "\n",
    "    def __enter__(self):\n",
    "        self._depth += 1\n",
    "        if self._depth == 1:\n",
    "            DimBinder.bindings = {}\n",
    "\n",
    "    def __exit__(self, exc_type, exc_val, exc_tb):\n",
    "        self._depth -= 1\n",
    "        if self._depth == 0:\n",
    "            DimBinder.bindings = None\n",
    "\n",
    "    def __call__(self, func: F) -> F:\n",
    "        @wraps(func)\n",
    "        def wrapper(*args, **kwargs):\n",
    "            with self:\n",
    "                return func(*args, **kwargs)\n",
    "\n",
    "        return cast(F, wrapper)\n",
    "\n",
    "dim_binding_scope = DimBindContext()"
   ]
  },
  {
   "cell_type": "code",
   "execution_count": 37,
   "metadata": {},
   "outputs": [],
   "source": [
    "from __future__ import annotations\n",
    "A = NewType(\"A\", int)\n",
    "B = NewType(\"B\", int)\n",
    "C = NewType(\"C\", int)\n",
    "\n",
    "Shape = TypeVarTuple(\"Shape\")\n",
    "\n",
    "\n",
    "def check(shape_type: tuple[Hashable, ...], shape: tuple[int, ...]) -> bool:\n",
    "\n",
    "    if len(shape_type) != len(shape):  # TODO: permit arbitrary len-shape\n",
    "        return False\n",
    "\n",
    "    # E.g. Tensor[A, B, B, C] :: matches == {A: [0], B: [1, 2], C: [3]}\n",
    "    matches: defaultdict[Any, list[int]] = defaultdict(list)\n",
    "    for n, a in enumerate(shape_type):\n",
    "        matches[a].append(n)\n",
    "\n",
    "    for symbol, indices in matches.items():\n",
    "        if len(indices) == 1 and DimBinder.bindings is None:\n",
    "            continue\n",
    "\n",
    "        first, *rest = indices\n",
    "        if DimBinder.bindings is None or symbol is int:\n",
    "            a = shape[first]\n",
    "        else:\n",
    "            _a = shape[first]\n",
    "            a = DimBinder.bindings.setdefault(symbol, _a)\n",
    "            if a != _a:\n",
    "                return False\n",
    "        if not all(a == shape[b] for b in rest):\n",
    "            return False\n",
    "    return True\n",
    "        \n",
    "        \n",
    "\n",
    "class NewMeta(PhantomMeta, type(_Tensor)):\n",
    "    ...\n",
    "    \n",
    "class Tensor(Generic[Unpack[Shape]], _Tensor):\n",
    "    if not TYPE_CHECKING:\n",
    "        _cache = {}\n",
    "        @classmethod\n",
    "        def __class_getitem__(cls, key):\n",
    "            if not isinstance(key, tuple):\n",
    "                key = (key,)\n",
    "                \n",
    "            kk = tuple(k.__name__ for k in key)\n",
    "            if kk in cls._cache:\n",
    "                return cls._cache[kk]\n",
    "\n",
    "            class PhantomTensor(\n",
    "                _Tensor,\n",
    "                Phantom,\n",
    "                metaclass=NewMeta,\n",
    "                predicate=lambda x: check(key, x.shape),\n",
    "            ):\n",
    "                _shape = key\n",
    "            cls._cache[kk] = PhantomTensor\n",
    "            return PhantomTensor\n",
    "\n",
    "    @property\n",
    "    def shape(self) -> tuple[Unpack[Shape]]: ...\n"
   ]
  },
  {
   "cell_type": "code",
   "execution_count": 41,
   "metadata": {},
   "outputs": [],
   "source": [
    "from __future__ import annotations\n",
    "\n",
    "T1 = TypeVar(\"T1\", bound=_Tensor)\n",
    "T2 = TypeVar(\"T2\", bound=_Tensor)\n",
    "T3 = TypeVar(\"T3\", bound=_Tensor)\n",
    "T4 = TypeVar(\"T4\", bound=_Tensor)\n",
    "\n",
    "@overload\n",
    "def parse(\n",
    "    __a: tuple[_Tensor, Type[T1]],\n",
    "    __b: tuple[_Tensor, Type[T2]],\n",
    "    __c: tuple[_Tensor, Type[T3]],\n",
    "    __4: tuple[_Tensor, Type[T4]],\n",
    ") -> tuple[T1, T2, T3, T4]:\n",
    "    ...\n",
    "\n",
    "\n",
    "@overload\n",
    "def parse(\n",
    "    __a: tuple[_Tensor, Type[T1]],\n",
    "    __b: tuple[_Tensor, Type[T2]],\n",
    "    __c: tuple[_Tensor, Type[T3]],\n",
    ") -> tuple[T1, T2, T3]:\n",
    "    ...\n",
    "\n",
    "\n",
    "@overload\n",
    "def parse(\n",
    "    __a: _Tensor,\n",
    "    __b: Type[T1],\n",
    ") -> T1:\n",
    "    ...\n",
    "\n",
    "\n",
    "@overload\n",
    "def parse(\n",
    "    __a: tuple[_Tensor, Type[T1]],\n",
    "    __b: tuple[_Tensor, Type[T2]],\n",
    ") -> tuple[T1, T2]:\n",
    "    ...\n",
    "\n",
    "\n",
    "@overload\n",
    "def parse(__a: tuple[_Tensor, Type[T1]]) -> T1:\n",
    "    ...\n",
    "\n",
    "\n",
    "@overload\n",
    "def parse(\n",
    "    *tensor_type_pairs: tuple[_Tensor, Type[_Tensor]] | _Tensor | Type[_Tensor]\n",
    ") -> _Tensor | tuple[_Tensor, ...]:\n",
    "    ...\n",
    "\n",
    "\n",
    "@dim_binding_scope\n",
    "def parse(\n",
    "    *tensor_type_pairs: tuple[_Tensor, Type[_Tensor]] | _Tensor | Type[_Tensor]\n",
    ") -> _Tensor | tuple[_Tensor, ...]:\n",
    "    out = []\n",
    "    if len(tensor_type_pairs) == 0: raise ValueError(\"\")\n",
    "    if len(tensor_type_pairs) == 2 and not isinstance(tensor_type_pairs[0], tuple):\n",
    "        tensor_type_pairs = (tensor_type_pairs,) # type: ignore\n",
    "\n",
    "    for tensor, type_ in tensor_type_pairs:\n",
    "        if not isinstance(tensor, type_.__bound__):  # type: ignore\n",
    "            raise TypeError(f\"Expected Tensor, got: {type(tensor)}\")\n",
    "\n",
    "        type_shape = type_._shape  # type: ignore\n",
    "        if not check(type_shape, tensor.shape):\n",
    "            assert DimBinder.bindings is not None\n",
    "            type_str = \", \".join(\n",
    "                f\"{p.__name__}={DimBinder.bindings[p]}\" for p in type_shape\n",
    "            )\n",
    "            raise TypeError(\n",
    "                f\"shape-{tuple(tensor.shape)} doesn't match shape-type ({type_str})\"\n",
    "            )\n",
    "        out.append(tensor)\n",
    "    if len(out) == 1:\n",
    "        return out[0]\n",
    "    return tuple(out)\n"
   ]
  },
  {
   "cell_type": "code",
   "execution_count": 42,
   "metadata": {},
   "outputs": [],
   "source": [
    "x = parse(tr.rand(2, 3), Tensor[A, B])\n",
    "x, y = parse(\n",
    "    (tr.rand(2, 3), Tensor[A, B]),\n",
    "    (tr.rand(2, 3), Tensor[A, B]),\n",
    ")\n"
   ]
  },
  {
   "cell_type": "code",
   "execution_count": 43,
   "metadata": {},
   "outputs": [],
   "source": [
    "x = parse((tr.rand(2, 3), Tensor[A, B]))\n",
    "x, y = parse(\n",
    "    (tr.rand(4, 3), Tensor[A, B]),\n",
    "    (tr.rand(4, 3), Tensor[A, B]),\n",
    ")\n"
   ]
  },
  {
   "cell_type": "code",
   "execution_count": 44,
   "metadata": {},
   "outputs": [],
   "source": [
    "with dim_binding_scope:\n",
    "\n",
    "    assert isinstance(tr.rand(2), Tensor[A])  # binds A=2\n",
    "    assert not isinstance(tr.rand(3), Tensor[A])  # nope!\n",
    "    assert isinstance(tr.rand(2), Tensor[A])  # yep!\n",
    "\n",
    "\n",
    "    assert isinstance(tr.rand(2, 4), Tensor[A, B])  # binds B=4\n",
    "    assert not isinstance(tr.rand(2), Tensor[B])  # nope!\n",
    "    assert isinstance(tr.rand(4), Tensor[B])  # yep!\n",
    "    assert isinstance(tr.rand(4, 2, 2, 4), Tensor[B, A, A, B])  # yep!\n",
    "\n",
    "assert isinstance(tr.rand(1, 3, 3, 1), Tensor[B, A, A, B])  # no dims bound\n",
    "assert isinstance(tr.rand(1, 4, 4, 1), Tensor[B, A, A, B])  # no dims bound\n"
   ]
  },
  {
   "cell_type": "code",
   "execution_count": null,
   "metadata": {},
   "outputs": [],
   "source": [
    "oo = parse((tr.rand(2), Tensor[A]))"
   ]
  },
  {
   "cell_type": "code",
   "execution_count": null,
   "metadata": {},
   "outputs": [],
   "source": [
    "(x @ y) - z"
   ]
  },
  {
   "cell_type": "code",
   "execution_count": 45,
   "metadata": {},
   "outputs": [],
   "source": [
    "import pytest\n",
    "\n",
    "with dim_binding_scope:\n",
    "\n",
    "    parse(tr.rand(2), Tensor[A])  # binds A=2\n",
    "    \n",
    "    with pytest.raises(TypeError):\n",
    "        parse(tr.rand(3), Tensor[A])  # nope!\n",
    "    \n",
    "    parse(tr.rand(2), Tensor[A])  # yep!\n",
    "\n",
    "\n",
    "    parse(tr.rand(2, 4), Tensor[A, B])  # binds B=4\n",
    "    \n",
    "    with pytest.raises(TypeError):\n",
    "        parse(tr.rand(2), Tensor[B])  # nope!\n",
    "\n",
    "    parse(tr.rand(4), Tensor[B])  # yep!\n",
    "    parse(tr.rand(4, 2, 2, 4), Tensor[B, A, A, B])  # yep!\n",
    "\n",
    "x = parse(tr.rand(1, 3, 3, 1), Tensor[B, A, A, B])  # no dims bound\n",
    "parse(tr.rand(1, 4, 4, 1), Tensor[B, A, A, B]);  # no dims bound"
   ]
  },
  {
   "cell_type": "code",
   "execution_count": 119,
   "metadata": {},
   "outputs": [
    {
     "data": {
      "text/plain": [
       "{('A',): __main__.Tensor.__class_getitem__.<locals>.PhantomTensor,\n",
       " ('A', 'B'): __main__.Tensor.__class_getitem__.<locals>.PhantomTensor,\n",
       " ('B',): __main__.Tensor.__class_getitem__.<locals>.PhantomTensor,\n",
       " ('B',\n",
       "  'A',\n",
       "  'A',\n",
       "  'B'): __main__.Tensor.__class_getitem__.<locals>.PhantomTensor}"
      ]
     },
     "execution_count": 119,
     "metadata": {},
     "output_type": "execute_result"
    }
   ],
   "source": [
    "Tensor._cache"
   ]
  },
  {
   "cell_type": "code",
   "execution_count": 57,
   "metadata": {},
   "outputs": [],
   "source": []
  },
  {
   "cell_type": "code",
   "execution_count": 58,
   "metadata": {},
   "outputs": [],
   "source": [
    "from beartype import beartype\n",
    "\n",
    "@dim_binding_scope \n",
    "# ^ ensures A, B, C consistent across all input/output tensor shapes\n",
    "#   within scope of function\n",
    "@beartype\n",
    "def matrix_multiply(x: Tensor[A, B], y: Tensor[B, C]) -> Tensor[A, C]:\n",
    "    a, b = x.shape\n",
    "    b, c = y.shape\n",
    "    return cast(Tensor[A, C], tr.rand(a, c))\n",
    "\n",
    "@beartype\n",
    "def needs_vector(x: Tensor[int]): ...\n",
    "\n",
    "\n",
    "x, y = parse(\n",
    "    (tr.rand(3, 4), Tensor[A, B]),\n",
    "    (tr.rand(4, 5), Tensor[B, C]),\n",
    ")\n",
    "x  # type revealed: Tensor[A, B]\n",
    "y  # type revealed: Tensor[B, C]\n",
    "\n",
    "z = matrix_multiply(x, y)\n",
    "z  # type revealed: Tensor[A, C]\n",
    "\n",
    "with pytest.raises(Exception):\n",
    "    needs_vector(z)  # beartype will roar!\n",
    "\n",
    "with pytest.raises(Exception):\n",
    "    matrix_multiply(x, x)  # beartype will roar!"
   ]
  },
  {
   "cell_type": "code",
   "execution_count": 47,
   "metadata": {},
   "outputs": [
    {
     "ename": "BeartypeCallHintParamViolation",
     "evalue": "@beartyped matrix_multiply() parameter y=\"tensor([[0.3709, 0.7728, 0.2731, 0.9063],\n        [0.0662, 0.8832, 0.8433, 0.8805],\n       .... violates type hint <class '__main__.Tensor.__class_getitem__.<locals>.PhantomTensor'>, as \"tensor([[0.3709, 0.7728, 0.2731, 0.9063],\n        [0.0662, 0.8832, 0.8433, 0.8805],\n       .... not instance of <protocol \"__main__.PhantomTensor\">.",
     "output_type": "error",
     "traceback": [
      "\u001b[1;31m---------------------------------------------------------------------------\u001b[0m",
      "\u001b[1;31mBeartypeCallHintParamViolation\u001b[0m            Traceback (most recent call last)",
      "Cell \u001b[1;32mIn [47], line 4\u001b[0m\n\u001b[0;32m      1\u001b[0m x \u001b[38;5;241m=\u001b[39m parse((tr\u001b[38;5;241m.\u001b[39mrand(\u001b[38;5;241m3\u001b[39m, \u001b[38;5;241m4\u001b[39m), Tensor[A, B]))\n\u001b[0;32m      2\u001b[0m y \u001b[38;5;241m=\u001b[39m parse((tr\u001b[38;5;241m.\u001b[39mrand(\u001b[38;5;241m3\u001b[39m, \u001b[38;5;241m4\u001b[39m), Tensor[A, B]))\n\u001b[1;32m----> 4\u001b[0m \u001b[43mmatrix_multiply\u001b[49m\u001b[43m(\u001b[49m\u001b[43mx\u001b[49m\u001b[43m,\u001b[49m\u001b[43m \u001b[49m\u001b[43my\u001b[49m\u001b[43m)\u001b[49m\n",
      "Cell \u001b[1;32mIn [2], line 23\u001b[0m, in \u001b[0;36mDimBindContext.__call__.<locals>.wrapper\u001b[1;34m(*args, **kwargs)\u001b[0m\n\u001b[0;32m     20\u001b[0m \u001b[38;5;129m@wraps\u001b[39m(func)\n\u001b[0;32m     21\u001b[0m \u001b[38;5;28;01mdef\u001b[39;00m \u001b[38;5;21mwrapper\u001b[39m(\u001b[38;5;241m*\u001b[39margs, \u001b[38;5;241m*\u001b[39m\u001b[38;5;241m*\u001b[39mkwargs):\n\u001b[0;32m     22\u001b[0m     \u001b[38;5;28;01mwith\u001b[39;00m \u001b[38;5;28mself\u001b[39m:\n\u001b[1;32m---> 23\u001b[0m         \u001b[38;5;28;01mreturn\u001b[39;00m func(\u001b[38;5;241m*\u001b[39margs, \u001b[38;5;241m*\u001b[39m\u001b[38;5;241m*\u001b[39mkwargs)\n",
      "File \u001b[1;32m<@beartype(__main__.matrix_multiply) at 0x1579975cf70>:48\u001b[0m, in \u001b[0;36mmatrix_multiply\u001b[1;34m(__beartype_func, __beartype_raise_exception, __beartype_object_1475694626352, __beartype_object_1475720441104, __beartype_object_1475720455264, *args, **kwargs)\u001b[0m\n",
      "File \u001b[1;32mc:\\Users\\rsokl\\miniconda3\\envs\\phantom\\lib\\site-packages\\beartype\\_decor\\_error\\errormain.py:301\u001b[0m, in \u001b[0;36mraise_pep_call_exception\u001b[1;34m(func, pith_name, pith_value, random_int)\u001b[0m\n\u001b[0;32m    297\u001b[0m     exception_cause_suffixed \u001b[39m=\u001b[39m suffix_unless_suffixed(\n\u001b[0;32m    298\u001b[0m         text\u001b[39m=\u001b[39mexception_cause, suffix\u001b[39m=\u001b[39m\u001b[39m'\u001b[39m\u001b[39m.\u001b[39m\u001b[39m'\u001b[39m)\n\u001b[0;32m    300\u001b[0m     \u001b[39m# Raise an exception of the desired class embedding this cause.\u001b[39;00m\n\u001b[1;32m--> 301\u001b[0m     \u001b[39mraise\u001b[39;00m exception_cls(  \u001b[39m# type: ignore[misc]\u001b[39;00m\n\u001b[0;32m    302\u001b[0m         \u001b[39mf\u001b[39m\u001b[39m'\u001b[39m\u001b[39m{\u001b[39;00mexception_prefix\u001b[39m}\u001b[39;00m\u001b[39mviolates type hint \u001b[39m\u001b[39m{\u001b[39;00m\u001b[39mrepr\u001b[39m(hint)\u001b[39m}\u001b[39;00m\u001b[39m, as \u001b[39m\u001b[39m'\u001b[39m\n\u001b[0;32m    303\u001b[0m         \u001b[39mf\u001b[39m\u001b[39m'\u001b[39m\u001b[39m{\u001b[39;00mexception_cause_suffixed\u001b[39m}\u001b[39;00m\u001b[39m'\u001b[39m\n\u001b[0;32m    304\u001b[0m     )\n\u001b[0;32m    306\u001b[0m \u001b[39m# Else, this pith satisfies this hint. In this (hopefully uncommon) edge\u001b[39;00m\n\u001b[0;32m    307\u001b[0m \u001b[39m# case, *SOMETHING HAS GONE TERRIBLY AWRY.* In theory, this should never\u001b[39;00m\n\u001b[0;32m    308\u001b[0m \u001b[39m# happen, as the parent wrapper function performing type checking should\u001b[39;00m\n\u001b[0;32m    309\u001b[0m \u001b[39m# *ONLY* call this child helper function when this pith does *NOT* satisfy\u001b[39;00m\n\u001b[0;32m    310\u001b[0m \u001b[39m# this hint. In this case, raise an exception encouraging the end user to\u001b[39;00m\n\u001b[0;32m    311\u001b[0m \u001b[39m# submit an upstream issue with us.\u001b[39;00m\n\u001b[0;32m    312\u001b[0m pith_value_repr \u001b[39m=\u001b[39m represent_object(\n\u001b[0;32m    313\u001b[0m     obj\u001b[39m=\u001b[39mpith_value, max_len\u001b[39m=\u001b[39m_CAUSE_TRIM_OBJECT_REPR_MAX_LEN)\n",
      "\u001b[1;31mBeartypeCallHintParamViolation\u001b[0m: @beartyped matrix_multiply() parameter y=\"tensor([[0.3709, 0.7728, 0.2731, 0.9063],\n        [0.0662, 0.8832, 0.8433, 0.8805],\n       .... violates type hint <class '__main__.Tensor.__class_getitem__.<locals>.PhantomTensor'>, as \"tensor([[0.3709, 0.7728, 0.2731, 0.9063],\n        [0.0662, 0.8832, 0.8433, 0.8805],\n       .... not instance of <protocol \"__main__.PhantomTensor\">."
     ]
    }
   ],
   "source": [
    "x = parse((tr.rand(3, 4), Tensor[A, B]))\n",
    "y = parse((tr.rand(3, 4), Tensor[A, B]))\n",
    "\n",
    "matrix_multiply(x, y)"
   ]
  },
  {
   "cell_type": "code",
   "execution_count": 121,
   "metadata": {},
   "outputs": [],
   "source": [
    "x = tr.rand(8, 9)\n",
    "y = tr.rand(9, 8)\n",
    "out = f(x, y)"
   ]
  },
  {
   "cell_type": "code",
   "execution_count": 122,
   "metadata": {},
   "outputs": [
    {
     "ename": "BeartypeCallHintParamViolation",
     "evalue": "@beartyped f() parameter y=\"tensor([[0.9299, 0.4118]])\" violates type hint <class '__main__.Tensor.__class_getitem__.<locals>.PhantomTensor'>, as \"tensor([[0.9299, 0.4118]])\" not instance of <protocol \"__main__.PhantomTensor\">.",
     "output_type": "error",
     "traceback": [
      "\u001b[1;31m---------------------------------------------------------------------------\u001b[0m",
      "\u001b[1;31mBeartypeCallHintParamViolation\u001b[0m            Traceback (most recent call last)",
      "Cell \u001b[1;32mIn [122], line 3\u001b[0m\n\u001b[0;32m      1\u001b[0m x \u001b[38;5;241m=\u001b[39m tr\u001b[38;5;241m.\u001b[39mrand(\u001b[38;5;241m2\u001b[39m, \u001b[38;5;241m4\u001b[39m)\n\u001b[0;32m      2\u001b[0m y \u001b[38;5;241m=\u001b[39m tr\u001b[38;5;241m.\u001b[39mrand(\u001b[38;5;241m1\u001b[39m, \u001b[38;5;241m2\u001b[39m)  \u001b[38;5;66;03m# should be (2, 4)\u001b[39;00m\n\u001b[1;32m----> 3\u001b[0m \u001b[43mf\u001b[49m\u001b[43m(\u001b[49m\u001b[43mx\u001b[49m\u001b[43m,\u001b[49m\u001b[43m \u001b[49m\u001b[43my\u001b[49m\u001b[43m)\u001b[49m\n",
      "Cell \u001b[1;32mIn [78], line 23\u001b[0m, in \u001b[0;36mDimBindContext.__call__.<locals>.wrapper\u001b[1;34m(*args, **kwargs)\u001b[0m\n\u001b[0;32m     20\u001b[0m \u001b[38;5;129m@wraps\u001b[39m(func)\n\u001b[0;32m     21\u001b[0m \u001b[38;5;28;01mdef\u001b[39;00m \u001b[38;5;21mwrapper\u001b[39m(\u001b[38;5;241m*\u001b[39margs, \u001b[38;5;241m*\u001b[39m\u001b[38;5;241m*\u001b[39mkwargs):\n\u001b[0;32m     22\u001b[0m     \u001b[38;5;28;01mwith\u001b[39;00m \u001b[38;5;28mself\u001b[39m:\n\u001b[1;32m---> 23\u001b[0m         \u001b[38;5;28;01mreturn\u001b[39;00m func(\u001b[38;5;241m*\u001b[39margs, \u001b[38;5;241m*\u001b[39m\u001b[38;5;241m*\u001b[39mkwargs)\n",
      "File \u001b[1;32m<@beartype(__main__.f) at 0x19dc957ed30>:48\u001b[0m, in \u001b[0;36mf\u001b[1;34m(__beartype_func, __beartype_raise_exception, __beartype_object_1777172299152, __beartype_object_1777172294432, __beartype_object_1777172296320, *args, **kwargs)\u001b[0m\n",
      "File \u001b[1;32mc:\\Users\\rsokl\\miniconda3\\envs\\phantom\\lib\\site-packages\\beartype\\_decor\\_error\\errormain.py:301\u001b[0m, in \u001b[0;36mraise_pep_call_exception\u001b[1;34m(func, pith_name, pith_value, random_int)\u001b[0m\n\u001b[0;32m    297\u001b[0m     exception_cause_suffixed \u001b[39m=\u001b[39m suffix_unless_suffixed(\n\u001b[0;32m    298\u001b[0m         text\u001b[39m=\u001b[39mexception_cause, suffix\u001b[39m=\u001b[39m\u001b[39m'\u001b[39m\u001b[39m.\u001b[39m\u001b[39m'\u001b[39m)\n\u001b[0;32m    300\u001b[0m     \u001b[39m# Raise an exception of the desired class embedding this cause.\u001b[39;00m\n\u001b[1;32m--> 301\u001b[0m     \u001b[39mraise\u001b[39;00m exception_cls(  \u001b[39m# type: ignore[misc]\u001b[39;00m\n\u001b[0;32m    302\u001b[0m         \u001b[39mf\u001b[39m\u001b[39m'\u001b[39m\u001b[39m{\u001b[39;00mexception_prefix\u001b[39m}\u001b[39;00m\u001b[39mviolates type hint \u001b[39m\u001b[39m{\u001b[39;00m\u001b[39mrepr\u001b[39m(hint)\u001b[39m}\u001b[39;00m\u001b[39m, as \u001b[39m\u001b[39m'\u001b[39m\n\u001b[0;32m    303\u001b[0m         \u001b[39mf\u001b[39m\u001b[39m'\u001b[39m\u001b[39m{\u001b[39;00mexception_cause_suffixed\u001b[39m}\u001b[39;00m\u001b[39m'\u001b[39m\n\u001b[0;32m    304\u001b[0m     )\n\u001b[0;32m    306\u001b[0m \u001b[39m# Else, this pith satisfies this hint. In this (hopefully uncommon) edge\u001b[39;00m\n\u001b[0;32m    307\u001b[0m \u001b[39m# case, *SOMETHING HAS GONE TERRIBLY AWRY.* In theory, this should never\u001b[39;00m\n\u001b[0;32m    308\u001b[0m \u001b[39m# happen, as the parent wrapper function performing type checking should\u001b[39;00m\n\u001b[0;32m    309\u001b[0m \u001b[39m# *ONLY* call this child helper function when this pith does *NOT* satisfy\u001b[39;00m\n\u001b[0;32m    310\u001b[0m \u001b[39m# this hint. In this case, raise an exception encouraging the end user to\u001b[39;00m\n\u001b[0;32m    311\u001b[0m \u001b[39m# submit an upstream issue with us.\u001b[39;00m\n\u001b[0;32m    312\u001b[0m pith_value_repr \u001b[39m=\u001b[39m represent_object(\n\u001b[0;32m    313\u001b[0m     obj\u001b[39m=\u001b[39mpith_value, max_len\u001b[39m=\u001b[39m_CAUSE_TRIM_OBJECT_REPR_MAX_LEN)\n",
      "\u001b[1;31mBeartypeCallHintParamViolation\u001b[0m: @beartyped f() parameter y=\"tensor([[0.9299, 0.4118]])\" violates type hint <class '__main__.Tensor.__class_getitem__.<locals>.PhantomTensor'>, as \"tensor([[0.9299, 0.4118]])\" not instance of <protocol \"__main__.PhantomTensor\">."
     ]
    }
   ],
   "source": [
    "x = tr.rand(2, 4)\n",
    "y = tr.rand(1, 2)  # should be (2, 4)\n",
    "f(x, y)"
   ]
  },
  {
   "cell_type": "code",
   "execution_count": 1,
   "metadata": {},
   "outputs": [
    {
     "ename": "TypeError",
     "evalue": "unsupported operand type(s) for ** or pow(): 'int' and 'str'",
     "output_type": "error",
     "traceback": [
      "\u001b[1;31m---------------------------------------------------------------------------\u001b[0m",
      "\u001b[1;31mTypeError\u001b[0m                                 Traceback (most recent call last)",
      "Cell \u001b[1;32mIn [1], line 1\u001b[0m\n\u001b[1;32m----> 1\u001b[0m \u001b[38;5;241;43m1\u001b[39;49m\u001b[38;5;241;43m*\u001b[39;49m\u001b[38;5;241;43m*\u001b[39;49m\u001b[38;5;124;43m\"\u001b[39;49m\u001b[38;5;124;43mstr\u001b[39;49m\u001b[38;5;124;43m\"\u001b[39;49m\n",
      "\u001b[1;31mTypeError\u001b[0m: unsupported operand type(s) for ** or pow(): 'int' and 'str'"
     ]
    }
   ],
   "source": [
    "1**\"str\""
   ]
  },
  {
   "cell_type": "code",
   "execution_count": 10,
   "metadata": {},
   "outputs": [],
   "source": [
    "H = NewType(\"A\", int)\n",
    "B = NewType(\"B\", int)\n",
    "C = NewType(\"C\", int)\n"
   ]
  },
  {
   "cell_type": "code",
   "execution_count": 71,
   "metadata": {},
   "outputs": [
    {
     "ename": "NameError",
     "evalue": "name 'reveal_type' is not defined",
     "output_type": "error",
     "traceback": [
      "\u001b[1;31m---------------------------------------------------------------------------\u001b[0m",
      "\u001b[1;31mNameError\u001b[0m                                 Traceback (most recent call last)",
      "Cell \u001b[1;32mIn [71], line 13\u001b[0m\n\u001b[0;32m      9\u001b[0m \u001b[38;5;28;01mdef\u001b[39;00m \u001b[38;5;21mouter_transpose\u001b[39m(x: Tensor[T1, Unpack[Shape], T2]) \u001b[38;5;241m-\u001b[39m\u001b[38;5;241m>\u001b[39m Tensor[T2, Unpack[Shape], T1]: \u001b[38;5;241m.\u001b[39m\u001b[38;5;241m.\u001b[39m\u001b[38;5;241m.\u001b[39m\n\u001b[0;32m     11\u001b[0m x \u001b[38;5;241m=\u001b[39m make_tensor(\u001b[38;5;241m.\u001b[39m\u001b[38;5;241m.\u001b[39m\u001b[38;5;241m.\u001b[39m)\n\u001b[1;32m---> 13\u001b[0m \u001b[43mreveal_type\u001b[49m(x)  \u001b[38;5;66;03m# reveals Tensor[A, B, B, C]\u001b[39;00m\n\u001b[0;32m     14\u001b[0m reveal_type(outer_transpose(x))  \u001b[38;5;66;03m# reveals Tensor[C, B, B, A]\u001b[39;00m\n\u001b[0;32m     16\u001b[0m y \u001b[38;5;241m=\u001b[39m outer_transpose(x)\n",
      "\u001b[1;31mNameError\u001b[0m: name 'reveal_type' is not defined"
     ]
    }
   ],
   "source": [
    "from typing import TypeVar\n",
    "T1 = TypeVar(\"T1\", bound=int)\n",
    "T2 = TypeVar(\"T2\", bound=int)\n",
    "\n",
    "\n",
    "\n",
    "def make_tensor(shape) -> Tensor[A, B, B, C]: ...\n",
    "\n",
    "def outer_transpose(x: Tensor[T1, Unpack[Shape], T2]) -> Tensor[T2, Unpack[Shape], T1]: ...\n",
    "\n",
    "x = make_tensor(...)\n",
    "\n",
    "reveal_type(x)  # reveals Tensor[A, B, B, C]\n",
    "reveal_type(outer_transpose(x))  # reveals Tensor[C, B, B, A]\n",
    "\n",
    "y = outer_transpose(x)\n",
    "\n",
    "\n",
    "y.shape"
   ]
  },
  {
   "cell_type": "code",
   "execution_count": 43,
   "metadata": {},
   "outputs": [
    {
     "data": {
      "text/plain": [
       "{<function typing.NewType.<locals>.new_type(x)>: 2,\n",
       " <function typing.NewType.<locals>.new_type(x)>: 4}"
      ]
     },
     "execution_count": 43,
     "metadata": {},
     "output_type": "execute_result"
    }
   ],
   "source": [
    "DimBinder.bindings"
   ]
  },
  {
   "cell_type": "code",
   "execution_count": 49,
   "metadata": {},
   "outputs": [],
   "source": [
    "from pytest import raises\n",
    "from beartype import beartype\n",
    "\n",
    "\n",
    "@beartype\n",
    "def make_tensor(shape: tuple[int, int, int]) -> Tensor[A, B, A]:\n",
    "    return cast(Tensor[A, B, A], tr.rand(shape))\n",
    "\n",
    "@beartype\n",
    "def f(x: Tensor[A, B]): ...\n",
    "\n",
    "@beartype\n",
    "def g(x: Tensor[A, B, A]): ...\n",
    "\n",
    "x = make_tensor((2, 4, 2))\n",
    "\n",
    "with raises(Exception):  # <- beartype raises\n",
    "    make_tensor((1, 2))  # pyright flags as error\n",
    "\n",
    "with raises(Exception):  # <- beartype raises\n",
    "    f(x)  # pyright flags as error\n",
    "\n",
    "g(x)"
   ]
  },
  {
   "cell_type": "code",
   "execution_count": 8,
   "metadata": {},
   "outputs": [
    {
     "ename": "BeartypeCallHintReturnViolation",
     "evalue": "@beartyped make_tensor() return \"tensor([[[0.5726, 0.9630],\n         [0.7850, 0.8574]]])\" violates type hint <class '__main__.Tensor.__class_getitem__.<locals>.PhantomTensor'>, as \"tensor([[[0.5726, 0.9630],\n         [0.7850, 0.8574]]])\" not instance of <protocol \"__main__.PhantomTensor\">.",
     "output_type": "error",
     "traceback": [
      "\u001b[1;31m---------------------------------------------------------------------------\u001b[0m",
      "\u001b[1;31mBeartypeCallHintReturnViolation\u001b[0m           Traceback (most recent call last)",
      "Cell \u001b[1;32mIn [8], line 1\u001b[0m\n\u001b[1;32m----> 1\u001b[0m \u001b[43mmake_tensor\u001b[49m\u001b[43m(\u001b[49m\u001b[43m(\u001b[49m\u001b[38;5;241;43m1\u001b[39;49m\u001b[43m,\u001b[49m\u001b[43m \u001b[49m\u001b[38;5;241;43m2\u001b[39;49m\u001b[43m,\u001b[49m\u001b[43m \u001b[49m\u001b[38;5;241;43m2\u001b[39;49m\u001b[43m)\u001b[49m\u001b[43m)\u001b[49m\n",
      "File \u001b[1;32m<@beartype(__main__.make_tensor) at 0x23b05f9aca0>:55\u001b[0m, in \u001b[0;36mmake_tensor\u001b[1;34m(__beartype_func, __beartype_raise_exception, __beartype_object_2452505876992, *args, **kwargs)\u001b[0m\n",
      "File \u001b[1;32mc:\\Users\\rsokl\\miniconda3\\envs\\phantom\\lib\\site-packages\\beartype\\_decor\\_error\\errormain.py:301\u001b[0m, in \u001b[0;36mraise_pep_call_exception\u001b[1;34m(func, pith_name, pith_value, random_int)\u001b[0m\n\u001b[0;32m    297\u001b[0m     exception_cause_suffixed \u001b[39m=\u001b[39m suffix_unless_suffixed(\n\u001b[0;32m    298\u001b[0m         text\u001b[39m=\u001b[39mexception_cause, suffix\u001b[39m=\u001b[39m\u001b[39m'\u001b[39m\u001b[39m.\u001b[39m\u001b[39m'\u001b[39m)\n\u001b[0;32m    300\u001b[0m     \u001b[39m# Raise an exception of the desired class embedding this cause.\u001b[39;00m\n\u001b[1;32m--> 301\u001b[0m     \u001b[39mraise\u001b[39;00m exception_cls(  \u001b[39m# type: ignore[misc]\u001b[39;00m\n\u001b[0;32m    302\u001b[0m         \u001b[39mf\u001b[39m\u001b[39m'\u001b[39m\u001b[39m{\u001b[39;00mexception_prefix\u001b[39m}\u001b[39;00m\u001b[39mviolates type hint \u001b[39m\u001b[39m{\u001b[39;00m\u001b[39mrepr\u001b[39m(hint)\u001b[39m}\u001b[39;00m\u001b[39m, as \u001b[39m\u001b[39m'\u001b[39m\n\u001b[0;32m    303\u001b[0m         \u001b[39mf\u001b[39m\u001b[39m'\u001b[39m\u001b[39m{\u001b[39;00mexception_cause_suffixed\u001b[39m}\u001b[39;00m\u001b[39m'\u001b[39m\n\u001b[0;32m    304\u001b[0m     )\n\u001b[0;32m    306\u001b[0m \u001b[39m# Else, this pith satisfies this hint. In this (hopefully uncommon) edge\u001b[39;00m\n\u001b[0;32m    307\u001b[0m \u001b[39m# case, *SOMETHING HAS GONE TERRIBLY AWRY.* In theory, this should never\u001b[39;00m\n\u001b[0;32m    308\u001b[0m \u001b[39m# happen, as the parent wrapper function performing type checking should\u001b[39;00m\n\u001b[0;32m    309\u001b[0m \u001b[39m# *ONLY* call this child helper function when this pith does *NOT* satisfy\u001b[39;00m\n\u001b[0;32m    310\u001b[0m \u001b[39m# this hint. In this case, raise an exception encouraging the end user to\u001b[39;00m\n\u001b[0;32m    311\u001b[0m \u001b[39m# submit an upstream issue with us.\u001b[39;00m\n\u001b[0;32m    312\u001b[0m pith_value_repr \u001b[39m=\u001b[39m represent_object(\n\u001b[0;32m    313\u001b[0m     obj\u001b[39m=\u001b[39mpith_value, max_len\u001b[39m=\u001b[39m_CAUSE_TRIM_OBJECT_REPR_MAX_LEN)\n",
      "\u001b[1;31mBeartypeCallHintReturnViolation\u001b[0m: @beartyped make_tensor() return \"tensor([[[0.5726, 0.9630],\n         [0.7850, 0.8574]]])\" violates type hint <class '__main__.Tensor.__class_getitem__.<locals>.PhantomTensor'>, as \"tensor([[[0.5726, 0.9630],\n         [0.7850, 0.8574]]])\" not instance of <protocol \"__main__.PhantomTensor\">."
     ]
    }
   ],
   "source": [
    "make_tensor((1, 2, 2))"
   ]
  },
  {
   "cell_type": "code",
   "execution_count": 75,
   "metadata": {},
   "outputs": [
    {
     "data": {
      "text/plain": [
       "tensor([[[0.0346],\n",
       "         [0.4760]]])"
      ]
     },
     "execution_count": 75,
     "metadata": {},
     "output_type": "execute_result"
    }
   ],
   "source": [
    "make_tensor((1, 2, 1))"
   ]
  },
  {
   "cell_type": "code",
   "execution_count": null,
   "metadata": {},
   "outputs": [],
   "source": [
    "register_tensor_shit = lambda x: x\n",
    "any_third_party_type_checker = lambda x: x"
   ]
  },
  {
   "cell_type": "code",
   "execution_count": null,
   "metadata": {},
   "outputs": [],
   "source": [
    "z = 1\n",
    "def parse(*a: Any) -> Any: ..."
   ]
  },
  {
   "cell_type": "code",
   "execution_count": null,
   "metadata": {},
   "outputs": [],
   "source": [
    "x, y, z = parse((x, Tensor[A, B, B]), (y, Tensor[B]), (z, Tensor[B, A, C]))"
   ]
  },
  {
   "cell_type": "code",
   "execution_count": 77,
   "metadata": {},
   "outputs": [],
   "source": [
    "@any_third_party_type_checker\n",
    "@register_tensor_shit\n",
    "def some_tensor_op(x: Tensor[A, B, B], y: Tensor[B], z: Tensor[B, A, C]) -> Tensor[A, C]: ..."
   ]
  },
  {
   "cell_type": "code",
   "execution_count": 76,
   "metadata": {},
   "outputs": [
    {
     "ename": "BeartypeCallHintReturnViolation",
     "evalue": "@beartyped make_tensor() return \"tensor([[[0.9308, 0.6804],\n         [0.0165, 0.4240]]])\" violates type hint <class '__main__.Tensor.__class_getitem__.<locals>.PhantomTensor'>, as \"tensor([[[0.9308, 0.6804],\n         [0.0165, 0.4240]]])\" not instance of <protocol \"__main__.PhantomTensor\">.",
     "output_type": "error",
     "traceback": [
      "\u001b[1;31m---------------------------------------------------------------------------\u001b[0m",
      "\u001b[1;31mBeartypeCallHintReturnViolation\u001b[0m           Traceback (most recent call last)",
      "Cell \u001b[1;32mIn [76], line 1\u001b[0m\n\u001b[1;32m----> 1\u001b[0m \u001b[43mmake_tensor\u001b[49m\u001b[43m(\u001b[49m\u001b[43m(\u001b[49m\u001b[38;5;241;43m1\u001b[39;49m\u001b[43m,\u001b[49m\u001b[43m \u001b[49m\u001b[38;5;241;43m2\u001b[39;49m\u001b[43m,\u001b[49m\u001b[43m \u001b[49m\u001b[38;5;241;43m2\u001b[39;49m\u001b[43m)\u001b[49m\u001b[43m)\u001b[49m\n",
      "File \u001b[1;32m<@beartype(__main__.make_tensor) at 0x22f3ab4f310>:21\u001b[0m, in \u001b[0;36mmake_tensor\u001b[1;34m(__beartype_func, __beartype_raise_exception, __beartype_object_2401818629392, *args, **kwargs)\u001b[0m\n",
      "File \u001b[1;32mc:\\Users\\rsokl\\miniconda3\\envs\\phantom\\lib\\site-packages\\beartype\\_decor\\_error\\errormain.py:301\u001b[0m, in \u001b[0;36mraise_pep_call_exception\u001b[1;34m(func, pith_name, pith_value, random_int)\u001b[0m\n\u001b[0;32m    297\u001b[0m     exception_cause_suffixed \u001b[39m=\u001b[39m suffix_unless_suffixed(\n\u001b[0;32m    298\u001b[0m         text\u001b[39m=\u001b[39mexception_cause, suffix\u001b[39m=\u001b[39m\u001b[39m'\u001b[39m\u001b[39m.\u001b[39m\u001b[39m'\u001b[39m)\n\u001b[0;32m    300\u001b[0m     \u001b[39m# Raise an exception of the desired class embedding this cause.\u001b[39;00m\n\u001b[1;32m--> 301\u001b[0m     \u001b[39mraise\u001b[39;00m exception_cls(  \u001b[39m# type: ignore[misc]\u001b[39;00m\n\u001b[0;32m    302\u001b[0m         \u001b[39mf\u001b[39m\u001b[39m'\u001b[39m\u001b[39m{\u001b[39;00mexception_prefix\u001b[39m}\u001b[39;00m\u001b[39mviolates type hint \u001b[39m\u001b[39m{\u001b[39;00m\u001b[39mrepr\u001b[39m(hint)\u001b[39m}\u001b[39;00m\u001b[39m, as \u001b[39m\u001b[39m'\u001b[39m\n\u001b[0;32m    303\u001b[0m         \u001b[39mf\u001b[39m\u001b[39m'\u001b[39m\u001b[39m{\u001b[39;00mexception_cause_suffixed\u001b[39m}\u001b[39;00m\u001b[39m'\u001b[39m\n\u001b[0;32m    304\u001b[0m     )\n\u001b[0;32m    306\u001b[0m \u001b[39m# Else, this pith satisfies this hint. In this (hopefully uncommon) edge\u001b[39;00m\n\u001b[0;32m    307\u001b[0m \u001b[39m# case, *SOMETHING HAS GONE TERRIBLY AWRY.* In theory, this should never\u001b[39;00m\n\u001b[0;32m    308\u001b[0m \u001b[39m# happen, as the parent wrapper function performing type checking should\u001b[39;00m\n\u001b[0;32m    309\u001b[0m \u001b[39m# *ONLY* call this child helper function when this pith does *NOT* satisfy\u001b[39;00m\n\u001b[0;32m    310\u001b[0m \u001b[39m# this hint. In this case, raise an exception encouraging the end user to\u001b[39;00m\n\u001b[0;32m    311\u001b[0m \u001b[39m# submit an upstream issue with us.\u001b[39;00m\n\u001b[0;32m    312\u001b[0m pith_value_repr \u001b[39m=\u001b[39m represent_object(\n\u001b[0;32m    313\u001b[0m     obj\u001b[39m=\u001b[39mpith_value, max_len\u001b[39m=\u001b[39m_CAUSE_TRIM_OBJECT_REPR_MAX_LEN)\n",
      "\u001b[1;31mBeartypeCallHintReturnViolation\u001b[0m: @beartyped make_tensor() return \"tensor([[[0.9308, 0.6804],\n         [0.0165, 0.4240]]])\" violates type hint <class '__main__.Tensor.__class_getitem__.<locals>.PhantomTensor'>, as \"tensor([[[0.9308, 0.6804],\n         [0.0165, 0.4240]]])\" not instance of <protocol \"__main__.PhantomTensor\">."
     ]
    }
   ],
   "source": [
    "make_tensor((1, 2, 2))"
   ]
  },
  {
   "cell_type": "code",
   "execution_count": 56,
   "metadata": {},
   "outputs": [
    {
     "data": {
      "text/plain": [
       "False"
      ]
     },
     "execution_count": 56,
     "metadata": {},
     "output_type": "execute_result"
    }
   ],
   "source": [
    "def make_tensor() -> Tensor[A, B]: ...\n",
    "\n",
    "def f(x: Tensor[A, B], y: Tensor[B, A]): ...\n",
    "\n",
    "x = make_tensor()\n",
    "\n",
    "f(x, x)  # <- should also raise runtime error via beartype\n",
    "\n",
    "f(x, outer_transpose(x))\n",
    "\n"
   ]
  },
  {
   "cell_type": "code",
   "execution_count": 57,
   "metadata": {},
   "outputs": [],
   "source": [
    "assert not isinstance([1], Tensor[A, A])\n",
    "\n",
    "assert isinstance(tr.rand(2, 2), Tensor[A, A])\n",
    "assert not isinstance(tr.rand(2, 3), Tensor[A, A])\n",
    "\n",
    "assert isinstance(tr.rand(2, 3), Tensor[A, B])"
   ]
  },
  {
   "cell_type": "code",
   "execution_count": 59,
   "metadata": {},
   "outputs": [],
   "source": [
    "assert isinstance(tr.rand(1, 2, 3, 2, 1), Tensor[A, B, C, B, A])\n",
    "assert not isinstance(tr.rand(1, 2, 3, 2, 1), Tensor[A, B, C, A, A])"
   ]
  },
  {
   "cell_type": "code",
   "execution_count": 6,
   "metadata": {},
   "outputs": [
    {
     "ename": "TypeError",
     "evalue": "issubclass() arg 1 must be a class",
     "output_type": "error",
     "traceback": [
      "\u001b[1;31m---------------------------------------------------------------------------\u001b[0m",
      "\u001b[1;31mTypeError\u001b[0m                                 Traceback (most recent call last)",
      "Cell \u001b[1;32mIn [6], line 1\u001b[0m\n\u001b[1;32m----> 1\u001b[0m \u001b[38;5;28;43missubclass\u001b[39;49m\u001b[43m(\u001b[49m\u001b[43mA\u001b[49m\u001b[43m,\u001b[49m\u001b[43m \u001b[49m\u001b[38;5;28;43mint\u001b[39;49m\u001b[43m)\u001b[49m\n",
      "\u001b[1;31mTypeError\u001b[0m: issubclass() arg 1 must be a class"
     ]
    }
   ],
   "source": [
    "issubclass(A, int)"
   ]
  },
  {
   "cell_type": "code",
   "execution_count": 5,
   "metadata": {},
   "outputs": [
    {
     "name": "stdout",
     "output_type": "stream",
     "text": [
      "<class '__main__.Tensor'> ((<function NewType.<locals>.new_type at 0x0000022F38CD7D30>, <function NewType.<locals>.new_type at 0x0000022F38CD7E50>),) {}\n",
      "<class 'super'>\n"
     ]
    }
   ],
   "source": [
    "def f() -> Tensor[A, B]: ...\n",
    "\n",
    "def g(x: Tensor[B, A]): ...\n",
    "\n",
    "x = f()\n",
    "x.shape"
   ]
  },
  {
   "cell_type": "code",
   "execution_count": 7,
   "metadata": {},
   "outputs": [
    {
     "data": {
      "text/plain": [
       "False"
      ]
     },
     "execution_count": 7,
     "metadata": {},
     "output_type": "execute_result"
    }
   ],
   "source": [
    "isinstance(tr.rand((2,1)), Tensor)"
   ]
  }
 ],
 "metadata": {
  "kernelspec": {
   "display_name": "Python 3.9.13 ('phantom')",
   "language": "python",
   "name": "python3"
  },
  "language_info": {
   "codemirror_mode": {
    "name": "ipython",
    "version": 3
   },
   "file_extension": ".py",
   "mimetype": "text/x-python",
   "name": "python",
   "nbconvert_exporter": "python",
   "pygments_lexer": "ipython3",
   "version": "3.9.13"
  },
  "orig_nbformat": 4,
  "vscode": {
   "interpreter": {
    "hash": "da39efd8b94b835a3dc4af4e4c07228e0a2a857610ee2271f04c34715b45b95c"
   }
  }
 },
 "nbformat": 4,
 "nbformat_minor": 2
}
